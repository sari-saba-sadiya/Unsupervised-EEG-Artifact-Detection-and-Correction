{
 "cells": [
  {
   "cell_type": "code",
   "execution_count": 1,
   "metadata": {},
   "outputs": [],
   "source": [
    "import featEEG as eeg\n",
    "import glob\n",
    "import numpy as np"
   ]
  },
  {
   "cell_type": "code",
   "execution_count": 2,
   "metadata": {},
   "outputs": [],
   "source": [
    "# Export data from the BCI Competition Dataset IV 2a dataset\n",
    "# Code used from https://github.com/bregydoc/bcidatasetIV2a\n",
    "class MotorImageryDataset:\n",
    "    def __init__(self, dataset='A01T.npz'):\n",
    "        if not dataset.endswith('.npz'):\n",
    "            dataset += '.npz'\n",
    "\n",
    "        self.data = np.load(dataset)\n",
    "\n",
    "        self.Fs = 250 # 250Hz from original paper\n",
    "\n",
    "        # keys of data ['s', 'etyp', 'epos', 'edur', 'artifacts']\n",
    "        self.raw = self.data['s'].T\n",
    "        self.events_type = self.data['etyp'].T\n",
    "        self.events_position = self.data['epos'].T\n",
    "        self.events_duration = self.data['edur'].T\n",
    "        self.artifacts = self.data['artifacts'].T\n",
    "\n",
    "        # Types of motor imagery\n",
    "        self.mi_types = {769: 'left', 770: 'right', 771: 'foot',\n",
    "                         772: 'tongue', 783: 'unknown', 1023:'rejected'}\n",
    "\n",
    "    def get_trials_from_channel(self):\n",
    "\n",
    "        # Channel default is C3\n",
    "        startrial_code = 768\n",
    "        starttrial_events = self.events_type == startrial_code\n",
    "        idxs = [i for i, x in enumerate(starttrial_events[0]) if x]\n",
    "\n",
    "        trials = []\n",
    "        classes = []\n",
    "        artifacts = []\n",
    "        for ii, index in enumerate(idxs):\n",
    "            type_e = self.events_type[0, index+1]\n",
    "            if type_e not in self.mi_types.keys():\n",
    "                continue\n",
    "            class_e = self.mi_types[type_e]\n",
    "            if class_e == 'unknown':\n",
    "                continue\n",
    "            classes.append(type_e-769)\n",
    "\n",
    "            start = self.events_position[0, index] + 0.5 * self.Fs\n",
    "            stop = start + self.events_duration[0, index]\n",
    "            if stop < start + 2* self.Fs:\n",
    "                print(stop,start + 2* self.Fs)\n",
    "                raise '(MotorImageryDataset error): EEG is shorter than 2 sec'\n",
    "            trial = self.raw[0:22, int(start):int(start + 2* self.Fs)]\n",
    "            trials.append(trial)\n",
    "            artifacts.append(self.artifacts[0,ii])\n",
    "        return trials, classes, artifacts"
   ]
  },
  {
   "cell_type": "code",
   "execution_count": 3,
   "metadata": {},
   "outputs": [],
   "source": [
    "trials = []\n",
    "classes = []\n",
    "artifacts = []\n",
    "for file in glob.glob('../bcidatasetIV2a/*.npz'):\n",
    "    datasetA1 = MotorImageryDataset(file)\n",
    "    # trials contains the N valid trials, and clases its related class.\n",
    "    tmp_trials, tmp_classes, tmp_artifacts = datasetA1.get_trials_from_channel()\n",
    "    trials.extend(tmp_trials)\n",
    "    classes.extend(tmp_classes)\n",
    "    artifacts.extend(tmp_artifacts)"
   ]
  },
  {
   "cell_type": "code",
   "execution_count": 4,
   "metadata": {},
   "outputs": [],
   "source": [
    "eegData = np.dstack(trials)"
   ]
  },
  {
   "cell_type": "code",
   "execution_count": 5,
   "metadata": {},
   "outputs": [],
   "source": [
    "fs = 250"
   ]
  },
  {
   "cell_type": "code",
   "execution_count": 6,
   "metadata": {},
   "outputs": [
    {
     "data": {
      "text/plain": [
       "(22, 500, 2816)"
      ]
     },
     "execution_count": 6,
     "metadata": {},
     "output_type": "execute_result"
    }
   ],
   "source": [
    "# eegData: 3D np array [chans x ms x epochs] \n",
    "eegData.shape"
   ]
  },
  {
   "cell_type": "code",
   "execution_count": 7,
   "metadata": {},
   "outputs": [],
   "source": [
    "feature_list = []"
   ]
  },
  {
   "cell_type": "markdown",
   "metadata": {},
   "source": [
    "## Complexity Features"
   ]
  },
  {
   "cell_type": "code",
   "execution_count": 8,
   "metadata": {},
   "outputs": [],
   "source": [
    "#Shannon Entropy\n",
    "ShannonRes = eeg.shannonEntropy(eegData, bin_min=-200, bin_max=200, binWidth=2)"
   ]
  },
  {
   "cell_type": "code",
   "execution_count": null,
   "metadata": {},
   "outputs": [],
   "source": [
    "#Tsalis Entropy (n=10)\n",
    "tsalisRes = eeg.tsalisEntropy(eegData, bin_min=-200, bin_max=200, binWidth=2,list(range(1,10+1)))"
   ]
  },
  {
   "cell_type": "code",
   "execution_count": 9,
   "metadata": {},
   "outputs": [],
   "source": [
    "# Subband Information Quantity\n",
    "# delta (0.5–4 Hz)\n",
    "eegData_delta = eeg.filt_data(eegData, 0.5, 4, fs)\n",
    "ShannonRes_delta = eeg.shannonEntropy(eegData_delta, bin_min=-200, bin_max=200, binWidth=2)\n",
    "# theta (4–8 Hz)\n",
    "eegData_theta = eeg.filt_data(eegData, 4, 8, fs)\n",
    "ShannonRes_theta = eeg.shannonEntropy(eegData_theta, bin_min=-200, bin_max=200, binWidth=2)\n",
    "# alpha (8–12 Hz)\n",
    "eegData_alpha = eeg.filt_data(eegData, 8, 12, fs)\n",
    "ShannonRes_alpha = eeg.shannonEntropy(eegData_alpha, bin_min=-200, bin_max=200, binWidth=2)\n",
    "# beta (12–30 Hz)\n",
    "eegData_beta = eeg.filt_data(eegData, 12, 30, fs)\n",
    "ShannonRes_beta = eeg.shannonEntropy(eegData_beta, bin_min=-200, bin_max=200, binWidth=2)\n",
    "# gamma (30–100 Hz)\n",
    "eegData_gamma = eeg.filt_data(eegData, 30, 100, fs)\n",
    "ShannonRes_gamma = eeg.shannonEntropy(eegData_gamma, bin_min=-200, bin_max=200, binWidth=2)"
   ]
  },
  {
   "cell_type": "code",
   "execution_count": null,
   "metadata": {},
   "outputs": [],
   "source": [
    "# Cepstrum Coefficients (n=2)\n",
    "CepstrumRes = eeg.mfcc(eegData, fs,order=2)"
   ]
  },
  {
   "cell_type": "code",
   "execution_count": 28,
   "metadata": {},
   "outputs": [],
   "source": [
    "# Lyapunov Exponent\n",
    "LyapunovRes = eeg.lyapunov(eegData)"
   ]
  },
  {
   "cell_type": "code",
   "execution_count": 29,
   "metadata": {},
   "outputs": [
    {
     "name": "stderr",
     "output_type": "stream",
     "text": [
      "/home/sarisadiya/Projects/ECC/gitRepo/featEEG.py:256: FutureWarning: `rcond` parameter will change to the default of machine precision times ``max(M, N)`` where M and N are the input matrix dimensions.\n",
      "To use the future default and silence this warning we advise to pass `rcond=None`, to keep using the old, explicitly pass `rcond=-1`.\n",
      "  (p, r1, r2, s)=np.linalg.lstsq(x, L)\n"
     ]
    }
   ],
   "source": [
    "# Fractal Embedding Dimension\n",
    "HiguchiFD_Res  = eeg.hFD(eegData[0,:,0],3)"
   ]
  },
  {
   "cell_type": "code",
   "execution_count": 31,
   "metadata": {},
   "outputs": [],
   "source": [
    "# Hjorth Mobility\n",
    "# Hjorth Complexity\n",
    "HjorthMob, HjorthComp = eeg.hjorthParameters(eegData)"
   ]
  },
  {
   "cell_type": "code",
   "execution_count": 32,
   "metadata": {},
   "outputs": [],
   "source": [
    "# False Nearest Neighbor\n",
    "FalseNnRes = eeg.falseNearestNeighbor(eegData)"
   ]
  },
  {
   "cell_type": "code",
   "execution_count": null,
   "metadata": {},
   "outputs": [],
   "source": [
    "# ARMA Coefficients (n=2)\n",
    "armaRes = eeg.arma(eegData,order=2)"
   ]
  },
  {
   "cell_type": "markdown",
   "metadata": {},
   "source": [
    "## Category Features"
   ]
  },
  {
   "cell_type": "code",
   "execution_count": 7,
   "metadata": {},
   "outputs": [],
   "source": [
    "# Median Frequency\n",
    "medianFreqRes = eeg.medianFreq(eegData,fs)"
   ]
  },
  {
   "cell_type": "code",
   "execution_count": 10,
   "metadata": {},
   "outputs": [],
   "source": [
    "# δ band Power\n",
    "bandPwr_delta = eeg.bandPower(eegData, 0.5, 4, fs)\n",
    "# θ band Power\n",
    "bandPwr_theta = eeg.bandPower(eegData, 4, 8, fs)\n",
    "# α band Power\n",
    "bandPwr_alpha = eeg.bandPower(eegData, 8, 12, fs)\n",
    "# β band Power\n",
    "bandPwr_beta = eeg.bandPower(eegData, 12, 30, fs)\n",
    "# γ band Power\n",
    "bandPwr_gamma = eeg.bandPower(eegData, 30, 100, fs)"
   ]
  },
  {
   "cell_type": "code",
   "execution_count": 11,
   "metadata": {},
   "outputs": [],
   "source": [
    "# Standard Deviation\n",
    "std_res = eeg.eegStd(eegData)"
   ]
  },
  {
   "cell_type": "code",
   "execution_count": 37,
   "metadata": {},
   "outputs": [],
   "source": [
    "# α/δ Ratio\n",
    "ratio_res = eeg.eegRatio(eegData,fs)"
   ]
  },
  {
   "cell_type": "code",
   "execution_count": 13,
   "metadata": {},
   "outputs": [],
   "source": [
    "# Regularity (burst-suppression)\n",
    "regularity_Res = eeg.eegRegularity(eegData,fs)"
   ]
  },
  {
   "cell_type": "code",
   "execution_count": 14,
   "metadata": {},
   "outputs": [],
   "source": [
    "# Voltage < 5μ\n",
    "volt05_Res = eeg.eegVoltage(eegData,voltage=5)\n",
    "# Voltage < 10μ\n",
    "volt10_Res = eeg.eegVoltage(eegData,voltage=10)\n",
    "# Voltage < 20μ\n",
    "volt20_Res = eeg.eegVoltage(eegData,voltage=20)"
   ]
  },
  {
   "cell_type": "code",
   "execution_count": 10,
   "metadata": {},
   "outputs": [],
   "source": [
    "# Diffuse Slowing\n",
    "df_Res = eeg.diffuseSlowing(eegData)"
   ]
  },
  {
   "cell_type": "code",
   "execution_count": 7,
   "metadata": {},
   "outputs": [],
   "source": [
    "# Spikes\n",
    "minNumSamples = int(70*fs/1000)\n",
    "spikeNum_Res = eeg.spikeNum(eegData,minNumSamples,stdAway = 3)"
   ]
  },
  {
   "cell_type": "code",
   "execution_count": null,
   "metadata": {},
   "outputs": [],
   "source": []
  },
  {
   "cell_type": "code",
   "execution_count": 65,
   "metadata": {},
   "outputs": [],
   "source": [
    "powers_alpha = eeg.bandPower(eegData, 8, 12, fs)\n",
    "powers_delta = eeg.bandPower(eegData, 0.5, 4, fs)\n",
    "ratio_res = np.sum(powers_alpha,axis=0) / np.sum(powers_delta,axis=0)"
   ]
  },
  {
   "cell_type": "code",
   "execution_count": 67,
   "metadata": {},
   "outputs": [
    {
     "data": {
      "text/plain": [
       "(2816,)"
      ]
     },
     "execution_count": 67,
     "metadata": {},
     "output_type": "execute_result"
    }
   ],
   "source": [
    "ratio_res.shape"
   ]
  },
  {
   "cell_type": "code",
   "execution_count": 53,
   "metadata": {},
   "outputs": [],
   "source": [
    "feature_list = []\n",
    "feature_list.append(ShannonRes)\n",
    "feature_list.append(ShannonRes_delta)\n",
    "feature_list.append(ShannonRes_theta)\n",
    "feature_list.append(ShannonRes_alpha)\n",
    "feature_list.append(ShannonRes_beta)\n",
    "feature_list.append(ShannonRes_gamma)\n",
    "feature_list.append(bandPwr_delta)\n",
    "feature_list.append(bandPwr_theta)\n",
    "feature_list.append(bandPwr_alpha)\n",
    "feature_list.append(bandPwr_beta)\n",
    "feature_list.append(bandPwr_gamma)\n",
    "feature_list.append(std_res)\n",
    "feature_list.append(ratio_res)\n",
    "feature_list.append(regularity_Res)\n",
    "feature_list.append(volt05_Res)\n",
    "feature_list.append(volt10_Res)\n",
    "feature_list.append(volt20_Res)"
   ]
  },
  {
   "cell_type": "code",
   "execution_count": 55,
   "metadata": {},
   "outputs": [
    {
     "data": {
      "text/plain": [
       "(22,)"
      ]
     },
     "execution_count": 55,
     "metadata": {},
     "output_type": "execute_result"
    }
   ],
   "source": [
    "ratio_res.shape"
   ]
  },
  {
   "cell_type": "code",
   "execution_count": 52,
   "metadata": {},
   "outputs": [
    {
     "ename": "ValueError",
     "evalue": "could not broadcast input array from shape (22,2816) into shape (22)",
     "output_type": "error",
     "traceback": [
      "\u001b[0;31m---------------------------------------------------------------------------\u001b[0m",
      "\u001b[0;31mValueError\u001b[0m                                Traceback (most recent call last)",
      "\u001b[0;32m<ipython-input-52-adc5baf06cf8>\u001b[0m in \u001b[0;36m<module>\u001b[0;34m\u001b[0m\n\u001b[0;32m----> 1\u001b[0;31m \u001b[0mnp\u001b[0m\u001b[0;34m.\u001b[0m\u001b[0marray\u001b[0m\u001b[0;34m(\u001b[0m\u001b[0mfeature_list\u001b[0m\u001b[0;34m)\u001b[0m\u001b[0;34m\u001b[0m\u001b[0;34m\u001b[0m\u001b[0m\n\u001b[0m",
      "\u001b[0;31mValueError\u001b[0m: could not broadcast input array from shape (22,2816) into shape (22)"
     ]
    }
   ],
   "source": [
    "np.array(feature_list)"
   ]
  },
  {
   "cell_type": "code",
   "execution_count": 27,
   "metadata": {},
   "outputs": [],
   "source": [
    "feature_arr = np.array(feature_list).transpose(2,0,1).reshape(2816,-1)"
   ]
  },
  {
   "cell_type": "code",
   "execution_count": 28,
   "metadata": {},
   "outputs": [
    {
     "data": {
      "text/plain": [
       "(2816, 352)"
      ]
     },
     "execution_count": 28,
     "metadata": {},
     "output_type": "execute_result"
    }
   ],
   "source": [
    "feature_arr.shape"
   ]
  },
  {
   "cell_type": "code",
   "execution_count": 29,
   "metadata": {},
   "outputs": [
    {
     "data": {
      "text/plain": [
       "16"
      ]
     },
     "execution_count": 29,
     "metadata": {},
     "output_type": "execute_result"
    }
   ],
   "source": [
    "len(feature_list)"
   ]
  },
  {
   "cell_type": "code",
   "execution_count": 30,
   "metadata": {},
   "outputs": [
    {
     "data": {
      "text/plain": [
       "0.17329545454545456"
      ]
     },
     "execution_count": 30,
     "metadata": {},
     "output_type": "execute_result"
    }
   ],
   "source": [
    "sum(artifacts) / len(artifacts)"
   ]
  },
  {
   "cell_type": "code",
   "execution_count": 31,
   "metadata": {},
   "outputs": [],
   "source": [
    "# https://pyod.readthedocs.io/en/latest/pyod.models.html\n",
    "from pyod import models\n",
    "from pyod.models import hbos,auto_encoder,lof,so_gaal,lscp,vae,abod,ocsvm,xgbod,pca"
   ]
  },
  {
   "cell_type": "code",
   "execution_count": 32,
   "metadata": {},
   "outputs": [
    {
     "data": {
      "text/plain": [
       "HBOS(alpha=0.1, contamination=0.15, n_bins=15, tol=0.2)"
      ]
     },
     "execution_count": 32,
     "metadata": {},
     "output_type": "execute_result"
    }
   ],
   "source": [
    "clf = hbos.HBOS(n_bins=15, alpha=0.1, tol=0.2,contamination=.15)\n",
    "clf.fit(feature_arr)"
   ]
  },
  {
   "cell_type": "code",
   "execution_count": 36,
   "metadata": {},
   "outputs": [
    {
     "data": {
      "text/plain": [
       "2117"
      ]
     },
     "execution_count": 36,
     "metadata": {},
     "output_type": "execute_result"
    }
   ],
   "source": [
    "sum(artifacts == clf.labels_)"
   ]
  },
  {
   "cell_type": "code",
   "execution_count": null,
   "metadata": {},
   "outputs": [],
   "source": []
  }
 ],
 "metadata": {
  "kernelspec": {
   "display_name": "Python 3",
   "language": "python",
   "name": "python3"
  },
  "language_info": {
   "codemirror_mode": {
    "name": "ipython",
    "version": 3
   },
   "file_extension": ".py",
   "mimetype": "text/x-python",
   "name": "python",
   "nbconvert_exporter": "python",
   "pygments_lexer": "ipython3",
   "version": "3.7.4"
  }
 },
 "nbformat": 4,
 "nbformat_minor": 2
}
